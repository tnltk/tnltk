{
 "cells": [
  {
   "cell_type": "markdown",
   "metadata": {
    "collapsed": false,
    "pycharm": {
     "name": "#%% md\n"
    }
   },
   "source": [
    "## Normalizer - Use Case\n",
    "---"
   ]
  },
  {
   "cell_type": "markdown",
   "metadata": {
    "collapsed": false,
    "pycharm": {
     "name": "#%% md\n"
    }
   },
   "source": [
    "### Use Case 1: Convert text to lowercase\n",
    "---\n",
    "This use case demonstrates how the lower_case function can be used to convert a string of text to lowercase for the Turkish language. The function handles all Turkish characters which are not handled properly by python's built-in lower() method. For example, the uppercase 'İ' is converted to 'i', 'I' is converted to 'ı' and so on. The result is a string in lowercase form.\n",
    "\n"
   ]
  },
  {
   "cell_type": "code",
   "execution_count": 1,
   "metadata": {
    "collapsed": false,
    "pycharm": {
     "name": "#%%\n"
    }
   },
   "outputs": [
    {
     "name": "stdout",
     "output_type": "stream",
     "text": [
      "merhaba dünya! iyi günler istanbul'a\n"
     ]
    }
   ],
   "source": [
    "from tnltk.normalizer import Normalizer\n",
    "\n",
    "text = \"Merhaba Dünya! İyi Günler İstanbul'a\"\n",
    "\n",
    "# convert the text to lowercase\n",
    "lowercase_text = Normalizer.lower_case(text)\n",
    "print(lowercase_text)"
   ]
  },
  {
   "cell_type": "markdown",
   "metadata": {
    "collapsed": false,
    "pycharm": {
     "name": "#%% md\n"
    }
   },
   "source": [
    "### Use Case 2: Removing Punctuations\n",
    "----\n",
    "This use case demonstrates how the remove_punctuations function can be used to remove all the punctuation characters from a given text. The function uses the python's built-in string.punctuation to define the set of punctuation characters and uses re.sub() method to replace them with an empty string. The result is a string stripped from punctuations."
   ]
  },
  {
   "cell_type": "code",
   "execution_count": 2,
   "metadata": {
    "collapsed": false,
    "pycharm": {
     "name": "#%%\n"
    }
   },
   "outputs": [
    {
     "name": "stdout",
     "output_type": "stream",
     "text": [
      "Merhaba Dünya Bu bir örnek metin\n"
     ]
    }
   ],
   "source": [
    "from tnltk.normalizer import Normalizer\n",
    "\n",
    "# a string containing punctuation marks\n",
    "text = \"#Merhaba, Dünya! Bu bir örnek metin.\"\n",
    "\n",
    "# remove the punctuations from the text\n",
    "text_without_punctuations = Normalizer.remove_punctuations(text)\n",
    "print(text_without_punctuations)"
   ]
  },
  {
   "cell_type": "markdown",
   "metadata": {
    "collapsed": false,
    "pycharm": {
     "name": "#%% md\n"
    }
   },
   "source": [
    "### Use Case 3: Removing Accent Marks\n",
    "---\n",
    "This use case demonstrates how the remove_accent_marks function can be used to remove accent marks from a given string. The function uses a dictionary to define the set of accent marks and their corresponding letters without accent marks, and uses the replace() method to replace them. The result is a string stripped from accent marks."
   ]
  },
  {
   "cell_type": "code",
   "execution_count": 3,
   "metadata": {
    "collapsed": false,
    "pycharm": {
     "name": "#%%\n"
    }
   },
   "outputs": [
    {
     "name": "stdout",
     "output_type": "stream",
     "text": [
      "merhaba, iyi günler\n"
     ]
    }
   ],
   "source": [
    "from tnltk.normalizer import Normalizer\n",
    "\n",
    "# a string containing accent marks\n",
    "text = \"merhâbâ, îyi günler\"\n",
    "\n",
    "# remove the accent marks from the text\n",
    "text_without_accents = Normalizer.remove_accent_marks(text)\n",
    "print(text_without_accents)"
   ]
  },
  {
   "cell_type": "markdown",
   "source": [
    "### Use Case 4: Convert numbers in a text to words\n",
    "---\n",
    "This use case demonstrates how the convert_text_numbers function can be used to convert numbers in a given text to words in Turkish language. The function uses regular expressions to find and extract numbers in the text, and then uses the number_to_word function to convert the numbers to words. If the number is too large, a warning is issued. If the decimal number is represented by a period, a warning is issued. (because in Turkish language decimal number is represented by comma.) The last text where numbers were converted to words is returned. As you can see in the output, it is converting the numbers to Turkish format which is using comma instead of period for decimal numbers.\n",
    "\n",
    "\n"
   ],
   "metadata": {
    "collapsed": false,
    "pycharm": {
     "name": "#%% md\n"
    }
   }
  },
  {
   "cell_type": "code",
   "execution_count": 6,
   "outputs": [
    {
     "name": "stdout",
     "output_type": "stream",
     "text": [
      " iki bin yirmi bir İstanbul toplam nüfusu: on beş milyon sekiz yüz kırk bin dokuz yüz\n"
     ]
    }
   ],
   "source": [
    "from tnltk.normalizer import Normalizer\n",
    "\n",
    "text = \"2021 İstanbul toplam nüfusu: 15840900\"\n",
    "\n",
    "# convert numbers in the text to words\n",
    "text_with_number_to_words = Normalizer.convert_text_numbers(text)\n",
    "print(text_with_number_to_words)"
   ],
   "metadata": {
    "collapsed": false,
    "pycharm": {
     "name": "#%%\n"
    }
   }
  },
  {
   "cell_type": "markdown",
   "source": [
    "#### Use Case 4: Convert numbers in a text to words -> If the decimal number is represented by a period, a warning is issued. (because in Turkish language decimal number is represented by comma.)\n",
    "---"
   ],
   "metadata": {
    "collapsed": false,
    "pycharm": {
     "name": "#%% md\n"
    }
   }
  },
  {
   "cell_type": "code",
   "execution_count": 8,
   "outputs": [
    {
     "name": "stdout",
     "output_type": "stream",
     "text": [
      " iki bin yirmi bir İstanbul toplam nüfusu: on beş\n"
     ]
    }
   ],
   "source": [
    "from tnltk.normalizer import Normalizer\n",
    "\n",
    "text = \"2021 İstanbul toplam nüfusu: 15.840.900\"\n",
    "\n",
    "# catch warning\n",
    "text_with_number_to_words = Normalizer.convert_text_numbers(text)\n",
    "print(text_with_number_to_words)"
   ],
   "metadata": {
    "collapsed": false,
    "pycharm": {
     "name": "#%%\n"
    }
   }
  },
  {
   "cell_type": "code",
   "execution_count": 10,
   "outputs": [],
   "source": [
    "#### Use Case 4: Convert numbers in a text to words ->  If the number is too large, a warning is issued."
   ],
   "metadata": {
    "collapsed": false,
    "pycharm": {
     "name": "#%%\n"
    }
   }
  },
  {
   "cell_type": "code",
   "execution_count": 11,
   "outputs": [
    {
     "name": "stdout",
     "output_type": "stream",
     "text": [
      " iki bin yirmi bir İstanbul toplam nüfusu: bir trilyon beş yüz milyar sekiz milyon dört yüz bin dokuz yüz\n"
     ]
    }
   ],
   "source": [
    "from tnltk.normalizer import Normalizer\n",
    "\n",
    "text = \"2021 İstanbul toplam nüfusu: 1500008400900\"\n",
    "\n",
    "# catch warning\n",
    "text_with_number_to_words = Normalizer.convert_text_numbers(text)\n",
    "print(text_with_number_to_words)"
   ],
   "metadata": {
    "collapsed": false,
    "pycharm": {
     "name": "#%%\n"
    }
   }
  },
  {
   "cell_type": "code",
   "execution_count": null,
   "outputs": [],
   "source": [
    "# ah sorry, for very big large numbers :)))\n",
    "# let's catching warning :D"
   ],
   "metadata": {
    "collapsed": false,
    "pycharm": {
     "name": "#%%\n"
    }
   }
  },
  {
   "cell_type": "code",
   "execution_count": 12,
   "outputs": [
    {
     "name": "stdout",
     "output_type": "stream",
     "text": [
      " iki bin yirmi bir İstanbul toplam nüfusu:\n"
     ]
    },
    {
     "name": "stderr",
     "output_type": "stream",
     "text": [
      "/Users/koc/tnltk/tnltk/normalizer/normalizer.py:122: UserWarning: The number is too big to convert it to words in Turkish language.\n",
      "  return warnings.warn(\"The number is too big to convert it to words in Turkish language.\")\n"
     ]
    }
   ],
   "source": [
    "from tnltk.normalizer import Normalizer\n",
    "\n",
    "text = \"2021 İstanbul toplam nüfusu: 1500008400900000000000\"\n",
    "\n",
    "# catch warning\n",
    "text_with_number_to_words = Normalizer.convert_text_numbers(text)\n",
    "print(text_with_number_to_words)"
   ],
   "metadata": {
    "collapsed": false,
    "pycharm": {
     "name": "#%%\n"
    }
   }
  }
 ],
 "metadata": {
  "kernelspec": {
   "display_name": "base",
   "language": "python",
   "name": "python3"
  },
  "language_info": {
   "codemirror_mode": {
    "name": "ipython",
    "version": 3
   },
   "file_extension": ".py",
   "mimetype": "text/x-python",
   "name": "python",
   "nbconvert_exporter": "python",
   "pygments_lexer": "ipython3",
   "version": "3.9.7"
  },
  "vscode": {
   "interpreter": {
    "hash": "be7372955a7040510ea7ee3cc8ed40465b65af60c29242fe5cc9e0fed564b3ea"
   }
  }
 },
 "nbformat": 4,
 "nbformat_minor": 0
}