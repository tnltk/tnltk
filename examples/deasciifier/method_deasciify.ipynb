{
 "cells": [
  {
   "cell_type": "markdown",
   "source": [
    "## Deasciifier - Use Case\n",
    "---"
   ],
   "metadata": {
    "collapsed": false,
    "pycharm": {
     "name": "#%% md\n"
    }
   }
  },
  {
   "cell_type": "markdown",
   "source": [
    "### Use Case: Convert ASCII text to Turkish characters\n",
    "---\n",
    "This use case demonstrates how the deasciify function can be used to convert a string of ASCII text to its equivalent Turkish characters. The function handles all ASCII characters that are not handled properly by python's built-in methods. For example, the ASCII character 's' is converted to 'ş', 'c' is converted to 'ç' and so on. The result is a string in Turkish characters."
   ],
   "metadata": {
    "collapsed": false,
    "pycharm": {
     "name": "#%% md\n"
    }
   }
  },
  {
   "cell_type": "code",
   "execution_count": 15,
   "outputs": [
    {
     "name": "stdout",
     "output_type": "stream",
     "text": [
      "['Tam', 'biz', 'doğa', 'yürüyüşündeyken', 'küçük', 'kardeşim', 'kaza', 'yapmış.']\n"
     ]
    }
   ],
   "source": [
    "from tnltk.normalizer import Deasciifier\n",
    "deasciifier = Deasciifier(\"Tam bız doga yurüyusundeyken kucuk kardeşım kaza yapmıs.\")\n",
    "result = deasciifier.deasciify()\n",
    "print(result.split())"
   ],
   "metadata": {
    "collapsed": false,
    "pycharm": {
     "name": "#%%\n"
    }
   }
  },
  {
   "cell_type": "code",
   "execution_count": null,
   "outputs": [],
   "source": [],
   "metadata": {
    "collapsed": false,
    "pycharm": {
     "name": "#%%\n"
    }
   }
  }
 ],
 "metadata": {
  "kernelspec": {
   "display_name": "Python 3",
   "language": "python",
   "name": "python3"
  },
  "language_info": {
   "codemirror_mode": {
    "name": "ipython",
    "version": 2
   },
   "file_extension": ".py",
   "mimetype": "text/x-python",
   "name": "python",
   "nbconvert_exporter": "python",
   "pygments_lexer": "ipython2",
   "version": "2.7.6"
  }
 },
 "nbformat": 4,
 "nbformat_minor": 0
}