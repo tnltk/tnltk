{
 "cells": [
  {
   "cell_type": "markdown",
   "source": [
    "## Deasciifier - Use Case\n",
    "---\n",
    "Deasciifier is a class that can convert an ASCII-only string to a Turkish string by replacing characters with their corresponding Turkish letters. The deasciify() method in this class serves as the main function to accomplish this. The method takes in a string as an input and uses the turkish_need_correction() function to check if the character needs to be corrected. If the character needs to be corrected, the turkish_toggle_accent() function is used to correct it. The method returns the converted Turkish string, which can be stored in a variable or printed out for further usage."
   ],
   "metadata": {
    "collapsed": false,
    "pycharm": {
     "name": "#%% md\n"
    }
   }
  },
  {
   "cell_type": "code",
   "execution_count": 24,
   "outputs": [
    {
     "ename": "TypeError",
     "evalue": "deasciify() missing 1 required positional argument: 'self'",
     "output_type": "error",
     "traceback": [
      "\u001B[0;31m---------------------------------------------------------------------------\u001B[0m",
      "\u001B[0;31mTypeError\u001B[0m                                 Traceback (most recent call last)",
      "\u001B[0;32m/var/folders/f4/wwj4sc190c10n1w58215_5kw0000gn/T/ipykernel_26289/1421449725.py\u001B[0m in \u001B[0;36m<module>\u001B[0;34m\u001B[0m\n\u001B[1;32m      2\u001B[0m \u001B[0mexample_input\u001B[0m \u001B[0;34m=\u001B[0m \u001B[0;34m\"Tam o sirada gullerin arasindaki cicekleri kokluyorduk. Herşey işlık çaldıginda yasandi...\"\u001B[0m\u001B[0;34m\u001B[0m\u001B[0;34m\u001B[0m\u001B[0m\n\u001B[1;32m      3\u001B[0m \u001B[0mdeasciifier\u001B[0m \u001B[0;34m=\u001B[0m \u001B[0mDeasciifier\u001B[0m\u001B[0;34m(\u001B[0m\u001B[0mexample_input\u001B[0m\u001B[0;34m)\u001B[0m\u001B[0;34m\u001B[0m\u001B[0;34m\u001B[0m\u001B[0m\n\u001B[0;32m----> 4\u001B[0;31m \u001B[0mconverted_string\u001B[0m \u001B[0;34m=\u001B[0m \u001B[0mdeasciifier\u001B[0m\u001B[0;34m.\u001B[0m\u001B[0mdeasciify\u001B[0m\u001B[0;34m(\u001B[0m\u001B[0;34m)\u001B[0m\u001B[0;34m\u001B[0m\u001B[0;34m\u001B[0m\u001B[0m\n\u001B[0m\u001B[1;32m      5\u001B[0m \u001B[0mconverted_string\u001B[0m\u001B[0;34m\u001B[0m\u001B[0;34m\u001B[0m\u001B[0m\n",
      "\u001B[0;31mTypeError\u001B[0m: deasciify() missing 1 required positional argument: 'self'"
     ]
    }
   ],
   "source": [
    "from tnltk.normalizer import Deasciifier\n",
    "example_input = \"Tam o sirada gullerin arasindaki cicekleri kokluyorduk. Herşey işlık çaldıginda yasandi...\"\n",
    "deasciifier = Deasciifier(example_input)\n",
    "converted_string = deasciifier.deasciify()\n",
    "converted_string"
   ],
   "metadata": {
    "collapsed": false,
    "pycharm": {
     "name": "#%%\n"
    }
   }
  },
  {
   "cell_type": "code",
   "execution_count": 16,
   "outputs": [],
   "source": [],
   "metadata": {
    "collapsed": false,
    "pycharm": {
     "name": "#%%\n"
    }
   }
  },
  {
   "cell_type": "code",
   "execution_count": null,
   "outputs": [],
   "source": [],
   "metadata": {
    "collapsed": false,
    "pycharm": {
     "name": "#%%\n"
    }
   }
  }
 ],
 "metadata": {
  "kernelspec": {
   "display_name": "base",
   "language": "python",
   "name": "python3"
  },
  "language_info": {
   "codemirror_mode": {
    "name": "ipython",
    "version": 2
   },
   "file_extension": ".py",
   "mimetype": "text/x-python",
   "name": "python",
   "nbconvert_exporter": "python",
   "pygments_lexer": "ipython2",
   "version": "3.9.7 (default, Sep 16 2021, 08:50:36) \n[Clang 10.0.0 ]"
  },
  "vscode": {
   "interpreter": {
    "hash": "be7372955a7040510ea7ee3cc8ed40465b65af60c29242fe5cc9e0fed564b3ea"
   }
  }
 },
 "nbformat": 4,
 "nbformat_minor": 0
}