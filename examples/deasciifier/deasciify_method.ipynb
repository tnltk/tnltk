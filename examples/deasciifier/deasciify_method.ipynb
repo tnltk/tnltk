{
 "cells": [
  {
   "cell_type": "markdown",
   "metadata": {
    "collapsed": false,
    "pycharm": {
     "name": "#%% md\n"
    }
   },
   "source": [
    "## Deasciifier - Use Case\n",
    "---"
   ]
  },
  {
   "cell_type": "markdown",
   "metadata": {
    "collapsed": false,
    "pycharm": {
     "name": "#%% md\n"
    }
   },
   "source": [
    "### Use Case: Convert ASCII text to Turkish characters\n",
    "---\n",
    "This use case demonstrates how the deasciify function can be used to convert a string of ASCII text to its equivalent Turkish characters. The function handles all ASCII characters that are not handled properly by python's built-in methods. For example, the ASCII character 's' is converted to 'ş', 'c' is converted to 'ç' and so on. The result is a string in Turkish characters."
   ]
  },
  {
   "cell_type": "code",
   "execution_count": 15,
   "metadata": {
    "collapsed": false,
    "pycharm": {
     "name": "#%%\n"
    }
   },
   "outputs": [
    {
     "name": "stdout",
     "output_type": "stream",
     "text": [
      "['Tam', 'biz', 'doğa', 'yürüyüşündeyken', 'küçük', 'kardeşim', 'kaza', 'yapmış.']\n"
     ]
    }
   ],
   "source": [
    "from tnltk.normalizer import Deasciifier\n",
    "deasciifier = Deasciifier(\"Tam bız doga yurüyusundeyken kucuk kardeşım kaza yapmıs.\")\n",
    "result = deasciifier.deasciify()\n",
    "print(result.split())"
   ]
  },
  {
   "cell_type": "code",
   "execution_count": null,
   "metadata": {
    "collapsed": false,
    "pycharm": {
     "name": "#%%\n"
    }
   },
   "outputs": [],
   "source": []
  }
 ],
 "metadata": {
  "kernelspec": {
   "display_name": "base",
   "language": "python",
   "name": "python3"
  },
  "language_info": {
   "codemirror_mode": {
    "name": "ipython",
    "version": 2
   },
   "file_extension": ".py",
   "mimetype": "text/x-python",
   "name": "python",
   "nbconvert_exporter": "python",
   "pygments_lexer": "ipython2",
   "version": "3.9.7 (default, Sep 16 2021, 08:50:36) \n[Clang 10.0.0 ]"
  },
  "vscode": {
   "interpreter": {
    "hash": "be7372955a7040510ea7ee3cc8ed40465b65af60c29242fe5cc9e0fed564b3ea"
   }
  }
 },
 "nbformat": 4,
 "nbformat_minor": 0
}
