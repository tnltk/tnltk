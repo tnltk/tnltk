{
 "cells": [
  {
   "cell_type": "markdown",
   "metadata": {
    "collapsed": false,
    "pycharm": {
     "name": "#%% md\n"
    }
   },
   "source": [
    "### Sentence Splitter - Use Case\n",
    "---\n",
    "This kernel provides an example of how to use the SentenceSplitter class from the tnltk library. The code imports the class and creates an instance of the class called 'splitter'. It also includes a sample string of text, which is passed as an argument to the 'split_sentences' method of the 'splitter' instance. This method splits the text into individual sentences and returns them as a list. This code can be used as a starting point for users who want to split text into sentences using the tnltk library and can be easily modified to fit their specific use case."
   ]
  },
  {
   "cell_type": "code",
   "execution_count": 15,
   "metadata": {
    "collapsed": false,
    "pycharm": {
     "name": "#%%\n"
    }
   },
   "outputs": [],
   "source": [
    "# This code imports the SentenceSplitter class from the tnltk library\n",
    "# and creates an instance of the class called 'splitter'.\n",
    "\n",
    "from tnltk.sentence_splitter import SentenceSplitter\n",
    "splitter = SentenceSplitter()"
   ]
  },
  {
   "cell_type": "code",
   "execution_count": 16,
   "metadata": {
    "collapsed": false,
    "pycharm": {
     "name": "#%%\n"
    }
   },
   "outputs": [],
   "source": [
    "# The 'text' variable contains a string of text that describes Dr. Tarık Kaan Koç and his professional background. :)"
   ]
  },
  {
   "cell_type": "code",
   "execution_count": 17,
   "metadata": {
    "collapsed": false,
    "pycharm": {
     "name": "#%%\n"
    }
   },
   "outputs": [],
   "source": [
    "text = \"Dr Tarık Kaan Koç, Türkiye genelinde birçok hastanede çalışmıştır. Bu hastaneler arasında Ankara Üniversitesi Tıp Fakültesi ve İstanbul Üniversitesi Tıp Fakültesi de vardır. Dr Tarık Kaan Koç, özellikle kalp ve damar cerrahisi alanında uzmanlaşmıştır ve uluslararası çok sayıda makale yazmıştır. Ayrıca Dr Koç, Türk Kardiyoloji Derneği üyesidir ve derneğin yönetim kurulu başkanıdır.\""
   ]
  },
  {
   "cell_type": "code",
   "execution_count": 18,
   "metadata": {
    "collapsed": false,
    "pycharm": {
     "name": "#%%\n"
    }
   },
   "outputs": [
    {
     "data": {
      "text/plain": [
       "['Dr Tarık Kaan Koç, Türkiye genelinde birçok hastanede çalışmıştır.',\n",
       " 'Bu hastaneler arasında Ankara Üniversitesi Tıp Fakültesi ve İstanbul Üniversitesi Tıp Fakültesi de vardır.',\n",
       " 'Dr Tarık Kaan Koç, özellikle kalp ve damar cerrahisi alanında uzmanlaşmıştır ve uluslararası çok sayıda makale yazmıştır.',\n",
       " 'Ayrıca Dr Koç, Türk Kardiyoloji Derneği üyesidir ve derneğin yönetim kurulu başkanıdır.']"
      ]
     },
     "execution_count": 18,
     "metadata": {},
     "output_type": "execute_result"
    }
   ],
   "source": [
    "# The 'split_sentences' method is called on the 'splitter' instance, passing in the 'text' variable as an argument.\n",
    "# This splits the text into individual sentences and returns them as a list.\n",
    "splitter.split_sentences(text)"
   ]
  },
  {
   "cell_type": "code",
   "execution_count": 18,
   "metadata": {
    "collapsed": false,
    "pycharm": {
     "name": "#%%\n"
    }
   },
   "outputs": [],
   "source": []
  },
  {
   "cell_type": "code",
   "execution_count": 2,
   "metadata": {
    "collapsed": false,
    "pycharm": {
     "name": "#%%\n"
    }
   },
   "outputs": [],
   "source": []
  },
  {
   "cell_type": "code",
   "execution_count": null,
   "metadata": {
    "collapsed": false,
    "pycharm": {
     "name": "#%%\n"
    }
   },
   "outputs": [],
   "source": []
  }
 ],
 "metadata": {
  "kernelspec": {
   "display_name": "base",
   "language": "python",
   "name": "python3"
  },
  "language_info": {
   "codemirror_mode": {
    "name": "ipython",
    "version": 3
   },
   "file_extension": ".py",
   "mimetype": "text/x-python",
   "name": "python",
   "nbconvert_exporter": "python",
   "pygments_lexer": "ipython3",
   "version": "3.9.7 (default, Sep 16 2021, 08:50:36) \n[Clang 10.0.0 ]"
  },
  "vscode": {
   "interpreter": {
    "hash": "be7372955a7040510ea7ee3cc8ed40465b65af60c29242fe5cc9e0fed564b3ea"
   }
  }
 },
 "nbformat": 4,
 "nbformat_minor": 0
}
